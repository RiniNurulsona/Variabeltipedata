{
 "cells": [
  {
   "cell_type": "code",
   "execution_count": 3,
   "id": "3f040096",
   "metadata": {},
   "outputs": [
    {
     "name": "stdout",
     "output_type": "stream",
     "text": [
      "dingin\n",
      "hari ini sangat cerah\n"
     ]
    }
   ],
   "source": [
    "cuaca = \"Hujan\"\n",
    "if cuaca == \"Hujan\":\n",
    "   print(\"dingin\")\n",
    "print(\"hari ini sangat cerah\")"
   ]
  },
  {
   "cell_type": "markdown",
   "id": "b7331fbd",
   "metadata": {},
   "source": [
    "Menentukan ganjil genap"
   ]
  },
  {
   "cell_type": "code",
   "execution_count": 5,
   "id": "a4f616f4",
   "metadata": {},
   "outputs": [
    {
     "name": "stdout",
     "output_type": "stream",
     "text": [
      "9 adalah bilangan ganjil\n"
     ]
    }
   ],
   "source": [
    "nilai = 9\n",
    "sisa_bagi = nilai % 2\n",
    "if sisa_bagi ==0:\n",
    "    print(f\"{nilai} adalah bilangan genap\")\n",
    "else:\n",
    "    print(f\"({nilai} adalah bilangan ganjil\")\n",
    "    "
   ]
  },
  {
   "cell_type": "code",
   "execution_count": 16,
   "id": "c6faa844",
   "metadata": {},
   "outputs": [
    {
     "name": "stdout",
     "output_type": "stream",
     "text": [
      "Insert Nilai :-5\n",
      "input salah\n"
     ]
    }
   ],
   "source": [
    "nilai = int(input(\"Insert Nilai :\"))\n",
    "if nilai >=0 and nilai <=100:\n",
    "\n",
    "    if nilai <=49:\n",
    "        print(f\"{nilai} = E\")\n",
    "    elif nilai <=59:\n",
    "        print(f\"{nilai}) = D\")\n",
    "    elif nilai <=69:\n",
    "        print(f\"{niali}) = C\")\n",
    "    elif nilai <=84:\n",
    "        print(f\"{nilai}) = B\")\n",
    "    elif nilai <=100:\n",
    "        print(f\"{nilai} = A\" )\n",
    "else:\n",
    "    print(\"input salah\")"
   ]
  },
  {
   "cell_type": "code",
   "execution_count": 1,
   "id": "acaf46f0",
   "metadata": {},
   "outputs": [
    {
     "name": "stdout",
     "output_type": "stream",
     "text": [
      "isikan username rini ns\n",
      "isikan passwordadmin\n",
      "Selamat datangrini ns\n"
     ]
    }
   ],
   "source": [
    "username = input('isikan username ')\n",
    "password = input('isikan password')\n",
    "\n",
    "if username == 'rini ns':\n",
    "    if password =='admin':\n",
    "        print(f'Selamat datang{username}')\n",
    "    else:\n",
    "        print('password anda salah')\n",
    "else:\n",
    "    if password == 'admin':\n",
    "        print('username anda salah')\n",
    "    else:\n",
    "        print('username dan password anada salah')\n",
    "        "
   ]
  },
  {
   "cell_type": "code",
   "execution_count": 2,
   "id": "90fc1ff6",
   "metadata": {},
   "outputs": [
    {
     "name": "stdout",
     "output_type": "stream",
     "text": [
      "Insert name : rini ns\n",
      "Insert age : 25\n",
      "Insert adress : sukabumi\n",
      "Insert dollar : 1000000\n",
      "rini ns tidak mencurigakan\n"
     ]
    }
   ],
   "source": [
    "name = input(\"Insert name : \")\n",
    "age = int(input(\"Insert age : \"))\n",
    "adress = input(\"Insert adress : \")\n",
    "dollar = int(input(\"Insert dollar : \"))\n",
    "\n",
    "pangkat = ''\n",
    "\n",
    "if age > 40:\n",
    "    if adress == \"Nevada\" or adress == \"New York\" or adress == \"Havana\":\n",
    "        if dollar > 10000000:\n",
    "            pangkat = 'Don'\n",
    "elif age >= 25 and age <=40:\n",
    "    if adress == \"New Jersey\" or adress == \"Manhattan\" or adress == \"Nevada\":\n",
    "        if dollar >= 1000000 and dollar <= 2000000:\n",
    "            pangkat = 'Underboss'\n",
    "elif age >= 18 and age <= 24:\n",
    "    if adress == \"California\" or adress == \"Detroit\" or adress == \"Boston\":\n",
    "        if dollar < 1000000:\n",
    "            pangkat = 'Capo'\n",
    "if pangkat !='':\n",
    "    print(f\"{name} kemungkinan adalah seorang anggota mafia dengan pangkat {pangkat}\")\n",
    "else:\n",
    "    print(f\"{name} tidak mencurigakan\")"
   ]
  },
  {
   "cell_type": "code",
   "execution_count": null,
   "id": "5e4108ed",
   "metadata": {},
   "outputs": [],
   "source": []
  },
  {
   "cell_type": "code",
   "execution_count": null,
   "id": "0e097884",
   "metadata": {},
   "outputs": [],
   "source": []
  },
  {
   "cell_type": "code",
   "execution_count": null,
   "id": "3272f8ed",
   "metadata": {},
   "outputs": [],
   "source": []
  },
  {
   "cell_type": "code",
   "execution_count": null,
   "id": "a0496ef3",
   "metadata": {},
   "outputs": [],
   "source": []
  }
 ],
 "metadata": {
  "kernelspec": {
   "display_name": "Python 3 (ipykernel)",
   "language": "python",
   "name": "python3"
  },
  "language_info": {
   "codemirror_mode": {
    "name": "ipython",
    "version": 3
   },
   "file_extension": ".py",
   "mimetype": "text/x-python",
   "name": "python",
   "nbconvert_exporter": "python",
   "pygments_lexer": "ipython3",
   "version": "3.9.12"
  }
 },
 "nbformat": 4,
 "nbformat_minor": 5
}
