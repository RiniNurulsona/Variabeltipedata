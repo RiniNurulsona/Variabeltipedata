{
 "cells": [
  {
   "cell_type": "code",
   "execution_count": null,
   "id": "2f3949d1",
   "metadata": {},
   "outputs": [],
   "source": []
  },
  {
   "cell_type": "code",
   "execution_count": 1,
   "id": "ffde4b95",
   "metadata": {},
   "outputs": [
    {
     "name": "stdout",
     "output_type": "stream",
     "text": [
      "insert your first name:Rini ns\n",
      "insert your middle name:nurul\n",
      "insert your last name:sona\n",
      "hello Rini ns nurul sona !!\n"
     ]
    }
   ],
   "source": [
    "first_name = input('insert your first name:')\n",
    "middle_name = input('insert your middle name:')\n",
    "last_name= input('insert your last name:')\n",
    "\n",
    "print(\"hello\",first_name,middle_name,last_name,\"!!\")"
   ]
  },
  {
   "cell_type": "markdown",
   "id": "524b8d81",
   "metadata": {},
   "source": [
    "Program Hitung Luas dan keliling Persegi Panjang"
   ]
  },
  {
   "cell_type": "code",
   "execution_count": 5,
   "id": "e98178fb",
   "metadata": {},
   "outputs": [
    {
     "name": "stdout",
     "output_type": "stream",
     "text": [
      "insert nilai panjang:5\n",
      "insert nilai luas:10\n",
      "Luas = 50\n",
      "keliling = 45\n"
     ]
    }
   ],
   "source": [
    "nilai_p = input('insert nilai panjang:') \n",
    "nilai_l = input('insert nilai luas:')\n",
    "\n",
    "luas =int(nilai_p) * int(nilai_l) \n",
    "keliling = 3* (int(nilai_p) + int(nilai_l))\n",
    "\n",
    "print(\"Luas =\", luas) \n",
    "print(\"keliling =\",keliling)"
   ]
  },
  {
   "cell_type": "markdown",
   "id": "d372fd26",
   "metadata": {},
   "source": [
    "Output"
   ]
  },
  {
   "cell_type": "code",
   "execution_count": 13,
   "id": "e0c2d4a4",
   "metadata": {},
   "outputs": [
    {
     "name": "stdout",
     "output_type": "stream",
     "text": [
      "1*****8*****4*****4-"
     ]
    }
   ],
   "source": [
    "print(\"1\",\"8\",\"4\",\"4\",sep=\"*\" *5, end= \"-\")"
   ]
  },
  {
   "cell_type": "code",
   "execution_count": 6,
   "id": "a3a0f7c5",
   "metadata": {},
   "outputs": [
    {
     "name": "stdout",
     "output_type": "stream",
     "text": [
      "6\n",
      "juni\n",
      "2004\n",
      "\n",
      "04-july-2005\n",
      "6/agustus/2005\n"
     ]
    }
   ],
   "source": [
    "print(\"6\",\"juni\",\"2004\",sep='\\n')\n",
    "print('')\n",
    "print(\"04\",\"july\",\"2005\",sep='-')\n",
    "\n",
    "print(\"6\",\"agustus\",\"2005\",sep='/')"
   ]
  },
  {
   "cell_type": "markdown",
   "id": "0db4f4a4",
   "metadata": {},
   "source": [
    "Memformat dengan indeks"
   ]
  },
  {
   "cell_type": "code",
   "execution_count": 7,
   "id": "7816a7dc",
   "metadata": {},
   "outputs": [
    {
     "name": "stdout",
     "output_type": "stream",
     "text": [
      "name of month Agustus,Juni\n"
     ]
    }
   ],
   "source": [
    "month_1 = \"Agustus\"\n",
    "month_2 = \"Juni\"\n",
    "month_3 = \"Januari\"\n",
    "\n",
    "print(\"name of month {0},{1}\".format(month_1, month_2))"
   ]
  },
  {
   "cell_type": "code",
   "execution_count": 11,
   "id": "9f61660d",
   "metadata": {},
   "outputs": [
    {
     "name": "stdout",
     "output_type": "stream",
     "text": [
      "Nama saya Rini Nurulsona\n"
     ]
    }
   ],
   "source": [
    "print(\"Nama saya {fname} {lname}\".format(fname='Rini',lname='Nurulsona'))"
   ]
  },
  {
   "cell_type": "code",
   "execution_count": 12,
   "id": "e4b023fe",
   "metadata": {},
   "outputs": [
    {
     "name": "stdout",
     "output_type": "stream",
     "text": [
      "U\n",
      "a\n",
      "Universitas\n",
      "\n",
      "Putra\n",
      "artuP asuN satisrevinU\n"
     ]
    }
   ],
   "source": [
    "kampus = \"Universitas Nusa Putra\"\n",
    "print(kampus[0]) #U\n",
    "print(kampus[-1]) #a\n",
    "\n",
    "#menggunkan range\n",
    "print(kampus[0:11])\n",
    "print(kampus[12:1])\n",
    "print(kampus[-5:])\n",
    "print(kampus[::-1])"
   ]
  },
  {
   "cell_type": "markdown",
   "id": "d43947f6",
   "metadata": {},
   "source": [
    "Interpolasi Menggunakan string"
   ]
  },
  {
   "cell_type": "code",
   "execution_count": 14,
   "id": "82f77500",
   "metadata": {},
   "outputs": [
    {
     "name": "stdout",
     "output_type": "stream",
     "text": [
      "Luas Persegi = 200\n",
      "Keliling Persegi = 22\n"
     ]
    }
   ],
   "source": [
    "p = 10\n",
    "l = 20\n",
    "\n",
    "print(f'Luas Persegi = {l*p}')\n",
    "print(f'Keliling Persegi = {2*(p+1)}')\n"
   ]
  },
  {
   "cell_type": "markdown",
   "id": "f669b85a",
   "metadata": {},
   "source": [
    "Fungsi"
   ]
  },
  {
   "cell_type": "code",
   "execution_count": 15,
   "id": "a802b1e3",
   "metadata": {},
   "outputs": [
    {
     "name": "stdout",
     "output_type": "stream",
     "text": [
      "[' mark lee', ' lucas', ' haechan']\n",
      " mark lee@ lucas@ haechan\n"
     ]
    }
   ],
   "source": [
    "student_name = \" mark lee, lucas, haechan\"\n",
    "\n",
    "print(student_name.split(',')) #merubah dari string ke list\n",
    "print('@'.join(student_name.split(','))) #merubah dari list ke string"
   ]
  },
  {
   "cell_type": "code",
   "execution_count": 21,
   "id": "b3a737cc",
   "metadata": {},
   "outputs": [
    {
     "name": "stdout",
     "output_type": "stream",
     "text": [
      "insert your name:Rini Nurulsona\n",
      "insert your birthday :06/juni/2004\n",
      "Your name: Rini Nurulsona\n",
      "Date : 06\n",
      "Month : juni\n",
      "Year : 2004\n",
      "Initial : RN\n"
     ]
    }
   ],
   "source": [
    "name = input(\"insert your name:\")\n",
    "birthday = input(\"insert your birthday :\")\n",
    "\n",
    "birth = birthday.split('/')\n",
    "names = name.split()\n",
    "\n",
    "print(f\"Your name: {name}\")\n",
    "print(f\"Date : {birth[0]}\")\n",
    "print(f\"Month : {birth[1]}\")\n",
    "print(f\"Year : {birth[2]}\")\n",
    "print(f\"Initial : {names[0][0]}{names[1][0]}\")"
   ]
  },
  {
   "cell_type": "code",
   "execution_count": null,
   "id": "9b09c2b4",
   "metadata": {},
   "outputs": [],
   "source": []
  }
 ],
 "metadata": {
  "kernelspec": {
   "display_name": "Python 3 (ipykernel)",
   "language": "python",
   "name": "python3"
  },
  "language_info": {
   "codemirror_mode": {
    "name": "ipython",
    "version": 3
   },
   "file_extension": ".py",
   "mimetype": "text/x-python",
   "name": "python",
   "nbconvert_exporter": "python",
   "pygments_lexer": "ipython3",
   "version": "3.9.12"
  }
 },
 "nbformat": 4,
 "nbformat_minor": 5
}
