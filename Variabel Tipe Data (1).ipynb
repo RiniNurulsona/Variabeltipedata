{
 "cells": [
  {
   "cell_type": "markdown",
   "id": "d4a5921c",
   "metadata": {},
   "source": [
    "<h1>Variabel dan Tipe Data</h1>\n",
    "Tipe Data pada pyhton :\n",
    "<ol>\n",
    "    <li>Float</li>\n",
    "    <li>Strig</li>\n",
    "    <li>Boolean-(bool) </li>\n",
    "    <li>Integer-(int) </li>\n",
    "    <ol><hr>\n",
    "    Aturan Penamaan variabel :\n",
    "        <ul>\n",
    "            <li>Tidak boleh menggunakan spasi</li>\n",
    "            <li>Bersifat case sensitive => A !=a</li>\n",
    "            <li>Terdiri dari huruf,angka dan karakter</li>\n",
    "            <li>Diawali underscore atau huruf</li>\n",
    "            <li>Tidak boleh menggunakan reserved keyword</li>\n",
    "        </ul>\n",
    "       \n",
    "            \n",
    "    \n",
    "             "
   ]
  },
  {
   "cell_type": "code",
   "execution_count": 9,
   "id": "471c2211",
   "metadata": {},
   "outputs": [
    {
     "name": "stdout",
     "output_type": "stream",
     "text": [
      "100\n",
      "50.6\n",
      "9\n",
      "True\n"
     ]
    }
   ],
   "source": [
    "data_integer = 100\n",
    "data_float =50.6\n",
    "data_string = \"9\"\n",
    "data_boolean = True\n",
    "\n",
    "data_string \n",
    "print(data_integer)\n",
    "print(data_float)\n",
    "print(data_string)\n",
    "print(data_boolean)"
   ]
  },
  {
   "cell_type": "code",
   "execution_count": 2,
   "id": "3d3f05ad",
   "metadata": {},
   "outputs": [
    {
     "name": "stdout",
     "output_type": "stream",
     "text": [
      "<class 'int'>\n",
      "<class 'float'>\n",
      "<class 'str'>\n",
      "<class 'bool'>\n"
     ]
    }
   ],
   "source": [
    "print(type(data_integer))\n",
    "print(type(data_float))\n",
    "print(type(data_string))\n",
    "print(type(data_boolean))\n"
   ]
  },
  {
   "cell_type": "markdown",
   "id": "f320aef6",
   "metadata": {},
   "source": [
    "<h3>Konversi data dari integer ke (String,Float,Boolean)</h3>"
   ]
  },
  {
   "cell_type": "code",
   "execution_count": 5,
   "id": "3fb0f3f0",
   "metadata": {},
   "outputs": [
    {
     "name": "stdout",
     "output_type": "stream",
     "text": [
      "isi Bilangan 18\n",
      "isi Bilangan 29\n",
      "209\n"
     ]
    }
   ],
   "source": [
    "bil1=input(\"isi Bilangan 1\")\n",
    "bil2=input(\"isi Bilangan 2\")\n",
    "hasil = bill + bil2\n",
    "print(hasil)"
   ]
  },
  {
   "cell_type": "code",
   "execution_count": 11,
   "id": "987e3c68",
   "metadata": {},
   "outputs": [
    {
     "name": "stdout",
     "output_type": "stream",
     "text": [
      "9\n",
      "50\n",
      "1\n",
      "<class 'int'>\n",
      "<class 'int'>\n",
      "<class 'int'>\n"
     ]
    }
   ],
   "source": [
    "string_to_int = int (data_string)\n",
    "float_to_int = int (data_float)\n",
    "bool_to_int = int (data_boolean)\n",
    "\n",
    "print(string_to_int)\n",
    "print(float_to_int)\n",
    "print(bool_to_int)\n",
    "\n",
    "print(type(string_to_int))\n",
    "print(type(float_to_int))\n",
    "print(type(bool_to_int))"
   ]
  },
  {
   "cell_type": "markdown",
   "id": "1dd826a6",
   "metadata": {},
   "source": []
  },
  {
   "cell_type": "code",
   "execution_count": 14,
   "id": "c3018d23",
   "metadata": {
    "scrolled": false
   },
   "outputs": [
    {
     "name": "stdout",
     "output_type": "stream",
     "text": [
      "9.0\n",
      "100.0\n",
      "1.0\n",
      "<class 'float'>\n",
      "<class 'float'>\n",
      "<class 'float'>\n"
     ]
    }
   ],
   "source": [
    "string_to_float = float (data_string)\n",
    "integer_to_float = float (data_integer)\n",
    "bool_to_float = float (data_boolean)\n",
    "\n",
    "print(string_to_float)\n",
    "print(integer_to_float)\n",
    "print(bool_to_float)\n",
    "\n",
    "print(type(string_to_float))\n",
    "print(type(integer_to_float))\n",
    "print(type(bool_to_float))"
   ]
  },
  {
   "cell_type": "code",
   "execution_count": 15,
   "id": "6f5c891c",
   "metadata": {},
   "outputs": [
    {
     "name": "stdout",
     "output_type": "stream",
     "text": [
      "True\n",
      "True\n",
      "True\n",
      "<class 'bool'>\n",
      "<class 'bool'>\n",
      "<class 'bool'>\n"
     ]
    }
   ],
   "source": [
    "integer_to_bool = bool (data_integer)\n",
    "float_to_bool = bool (data_float)\n",
    "string_to_bool = bool(data_string)\n",
    "\n",
    "print(integer_to_bool)\n",
    "print(float_to_bool)\n",
    "print(string_to_bool)\n",
    "\n",
    "print(type(integer_to_bool))\n",
    "print(type(float_to_bool))\n",
    "print(type(string_to_bool))"
   ]
  },
  {
   "cell_type": "code",
   "execution_count": 17,
   "id": "bc9637ef",
   "metadata": {},
   "outputs": [
    {
     "name": "stdout",
     "output_type": "stream",
     "text": [
      "100\n",
      "50.6\n",
      "True\n",
      "<class 'str'>\n",
      "<class 'str'>\n",
      "<class 'str'>\n"
     ]
    }
   ],
   "source": [
    "integer_to_string = str (data_integer)\n",
    "float_to_string = str (data_float)\n",
    "bool_to_string = str (data_boolean)\n",
    "\n",
    "print(integer_to_string)\n",
    "print(float_to_string)\n",
    "print(bool_to_string)\n",
    "\n",
    "print(type(integer_to_string))\n",
    "print(type(float_to_string))\n",
    "print(type(bool_to_string))\n"
   ]
  },
  {
   "cell_type": "code",
   "execution_count": null,
   "id": "592f291c",
   "metadata": {},
   "outputs": [],
   "source": []
  }
 ],
 "metadata": {
  "kernelspec": {
   "display_name": "Python 3 (ipykernel)",
   "language": "python",
   "name": "python3"
  },
  "language_info": {
   "codemirror_mode": {
    "name": "ipython",
    "version": 3
   },
   "file_extension": ".py",
   "mimetype": "text/x-python",
   "name": "python",
   "nbconvert_exporter": "python",
   "pygments_lexer": "ipython3",
   "version": "3.9.12"
  }
 },
 "nbformat": 4,
 "nbformat_minor": 5
}
