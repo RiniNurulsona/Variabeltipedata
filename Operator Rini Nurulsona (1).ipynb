{
 "cells": [
  {
   "cell_type": "markdown",
   "id": "26640cf2",
   "metadata": {},
   "source": [
    "<h1>Operator<h1><hr>"
   ]
  },
  {
   "cell_type": "code",
   "execution_count": 4,
   "id": "ee70acf7",
   "metadata": {},
   "outputs": [
    {
     "name": "stdout",
     "output_type": "stream",
     "text": [
      "27\n",
      "13\n",
      "140\n",
      "2.857142857142857\n",
      "1280000000\n",
      "2\n",
      "6\n"
     ]
    }
   ],
   "source": [
    "num1 =20\n",
    "num2 = 7\n",
    "\n",
    "hasil_jumlah = num1 + num2\n",
    "hasil_kurang = num1 - num2\n",
    "hasil_kali = num1 * num2\n",
    "hasil_bagi = num1 / num2\n",
    "hasil_bagi_bulat = num1 // num2\n",
    "hasil_pangkat = num1 ** num2\n",
    "hasil_modulus = num1 % num2\n",
    "\n",
    "print (hasil_jumlah)\n",
    "print (hasil_kurang)\n",
    "print (hasil_kali)\n",
    "print (hasil_bagi)\n",
    "print (hasil_pangkat)\n",
    "print (hasil_bagi_bulat)\n",
    "print (hasil_modulus)\n",
    "\n",
    "\n",
    "\n"
   ]
  },
  {
   "cell_type": "code",
   "execution_count": 9,
   "id": "d6a5b73c",
   "metadata": {},
   "outputs": [
    {
     "name": "stdout",
     "output_type": "stream",
     "text": [
      "10\n",
      "15\n",
      "13\n",
      "78\n",
      "11\n",
      "88\n"
     ]
    }
   ],
   "source": [
    "x = 10\n",
    "print (x) #10\n",
    "x += 5 #x = x + 5\n",
    "print (x) #15\n",
    "x -= 2 #x = x - 2\n",
    "print (x) #13\n",
    "x *= 6 #x = x * 6\n",
    "print (x) #12\n",
    "x //= 7 #x = x // 7\n",
    "print (x) #16\n",
    "x *= 8 #x =  x ** 8\n",
    "print (x) # 17\n",
    "x %= 2 #x = x % 2\n",
    "\n"
   ]
  },
  {
   "cell_type": "markdown",
   "id": "79a52c58",
   "metadata": {},
   "source": [
    "<h1>Operator Bilangan<h1>"
   ]
  },
  {
   "cell_type": "code",
   "execution_count": 10,
   "id": "04690daf",
   "metadata": {},
   "outputs": [
    {
     "name": "stdout",
     "output_type": "stream",
     "text": [
      "False\n",
      "True\n",
      "False\n",
      "True\n",
      "True\n",
      "True\n"
     ]
    }
   ],
   "source": [
    "y = 5\n",
    "z = 6\n",
    "\n",
    "print(y==z) #false\n",
    "print(y!=z) #false\n",
    "print(y>z) #false\n",
    "print(y<z) #false\n",
    "print(y>=5) #false\n",
    "print(y<=6) #false"
   ]
  },
  {
   "cell_type": "markdown",
   "id": "3d867406",
   "metadata": {},
   "source": [
    "<h1>Operator Logika<h1>"
   ]
  },
  {
   "cell_type": "code",
   "execution_count": 11,
   "id": "4e4317be",
   "metadata": {},
   "outputs": [
    {
     "name": "stdout",
     "output_type": "stream",
     "text": [
      "True\n",
      "False\n",
      "True\n"
     ]
    }
   ],
   "source": [
    "val1 = 10\n",
    "val2 = 5\n",
    "\n",
    "opr_and = val1 > val2 and val1 < 11 #True\n",
    "opr_or = val1 == 9 or val2 >5 #True\n",
    "opr_not = not(opr_and and opr_or) #False\n",
    "\n",
    "print(opr_and)\n",
    "print(opr_or)\n",
    "print(opr_not)\n"
   ]
  },
  {
   "cell_type": "markdown",
   "id": "34b52820",
   "metadata": {},
   "source": [
    "<h1>Operator Indentitas<h1>"
   ]
  },
  {
   "cell_type": "code",
   "execution_count": 12,
   "id": "f46ee3ab",
   "metadata": {},
   "outputs": [
    {
     "name": "stdout",
     "output_type": "stream",
     "text": [
      "True\n",
      "False\n",
      "False\n",
      "False\n"
     ]
    }
   ],
   "source": [
    "fruits = [\" apel\", \"semangka\", \"nanas\"]\n",
    "fav_fruits = fruits\n",
    "your_fruits = [ \"apel\", \"semangka\", \"nanas\"]\n",
    "name = \"Rini ns\"\n",
    "your_name = \"Rini ns\"\n",
    "\n",
    "print(fav_fruits is fruits)\n",
    "print(fruits is your_fruits)\n",
    "print(name is your_name)\n",
    "print(fav_fruits is not fruits)\n",
    "\n",
    "\n",
    "\n"
   ]
  },
  {
   "cell_type": "markdown",
   "id": "5b9d651b",
   "metadata": {},
   "source": [
    "<h1>Operator Keanggotaan</h1>"
   ]
  },
  {
   "cell_type": "code",
   "execution_count": 13,
   "id": "172038f4",
   "metadata": {},
   "outputs": [
    {
     "name": "stdout",
     "output_type": "stream",
     "text": [
      "False\n",
      "True\n",
      "True\n",
      "False\n"
     ]
    }
   ],
   "source": [
    "city = [\"jakarta\",\"bogor\",\"bandung\"]\n",
    "\n",
    "print(\"sukabumi\" in city)\n",
    "print(\"bogor\" in city)\n",
    "print(\"jakarta\" in city)\n",
    "print(\"bandung\" in city and \"jakarta\" not in city)\n"
   ]
  },
  {
   "cell_type": "markdown",
   "id": "0db41ea8",
   "metadata": {},
   "source": [
    "<h1>Operator Bitwise<h1>\n"
   ]
  },
  {
   "cell_type": "code",
   "execution_count": 17,
   "id": "d416459a",
   "metadata": {},
   "outputs": [
    {
     "name": "stdout",
     "output_type": "stream",
     "text": [
      "15\n",
      "255\n",
      "240\n",
      "256\n",
      "16\n"
     ]
    }
   ],
   "source": [
    "nilai1 = 255\n",
    "nilai2 = 15\n",
    "bit_and = nilai1 & nilai2\n",
    "bit_or = nilai1 | nilai2\n",
    "bit_xor= nilai1 ^ nilai2\n",
    "\n",
    "print(bit_and)\n",
    "print(bit_or)\n",
    "print(bit_xor)\n",
    "\n",
    "#shift left\n",
    "print(128 << 1)\n",
    "#shift right\n",
    "print(128 >> 3)"
   ]
  },
  {
   "cell_type": "code",
   "execution_count": null,
   "id": "f7a181b5",
   "metadata": {},
   "outputs": [],
   "source": []
  }
 ],
 "metadata": {
  "kernelspec": {
   "display_name": "Python 3 (ipykernel)",
   "language": "python",
   "name": "python3"
  },
  "language_info": {
   "codemirror_mode": {
    "name": "ipython",
    "version": 3
   },
   "file_extension": ".py",
   "mimetype": "text/x-python",
   "name": "python",
   "nbconvert_exporter": "python",
   "pygments_lexer": "ipython3",
   "version": "3.9.12"
  }
 },
 "nbformat": 4,
 "nbformat_minor": 5
}
